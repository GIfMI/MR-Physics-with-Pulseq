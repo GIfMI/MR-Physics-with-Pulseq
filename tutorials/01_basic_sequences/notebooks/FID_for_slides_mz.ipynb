{
  "cells": [
    {
      "cell_type": "markdown",
      "metadata": {
        "id": "mJe7X9UGeWF1"
      },
      "source": [
        "# Example FID\n",
        "for the Ph.D. Training program of the German Chapter of the ISMRM\n",
        "\n",
        "https://github.com/pulseq/MR-Physics-with-Pulseq/tree/main/tutorials/01_basic_sequences/notebooks"
      ]
    },
    {
      "cell_type": "code",
      "execution_count": null,
      "metadata": {
        "id": "1MmzSDftfM0Z"
      },
      "outputs": [],
      "source": [
        "!pip show pypulseq || pip install install git+https://github.com/imr-framework/pypulseq.git\n",
        "!wget https://raw.githubusercontent.com/pulseq/MR-Physics-with-Pulseq/main/utils/utils.py"
      ]
    },
    {
      "cell_type": "code",
      "execution_count": null,
      "metadata": {
        "id": "HmPW2QurfZcW"
      },
      "outputs": [],
      "source": [
        "import math\n",
        "import warnings\n",
        "import numpy as np\n",
        "from matplotlib import pyplot as plt\n",
        "import pypulseq as mr\n",
        "import utils # several helper functions for simulation and recon"
      ]
    },
    {
      "cell_type": "code",
      "execution_count": null,
      "metadata": {
        "id": "IEtZ-QF4f-X8"
      },
      "outputs": [],
      "source": [
        "# define high level parameters\n",
        "\n",
        "fov=256e-3\n",
        "dwell=10e-5\n",
        "Nread=64\n",
        "Nphase=1\n",
        "TE=5e-3\n",
        "TR=60e-3\n",
        "\n",
        "# SETUP\n",
        "# Set system limits\n",
        "system = mr.Opts(\n",
        "    max_grad=32,\n",
        "    grad_unit=\"mT/m\",\n",
        "    max_slew=130,\n",
        "    slew_unit=\"T/m/s\",\n",
        "    rf_ringdown_time=30e-6,\n",
        "    rf_dead_time=100e-6,\n",
        ")\n",
        "\n",
        "# Create 90 degree slice selection pulse and gradient\n",
        "rf_ex, gz1, _ = mr.make_sinc_pulse(\n",
        "    flip_angle=90 * np.pi / 180,\n",
        "    system=system,\n",
        "    duration=1e-3,\n",
        "    slice_thickness=5e-3,\n",
        "    apodization=0.5,\n",
        "    time_bw_product=4,\n",
        "    phase_offset=0* np.pi / 180,\n",
        "    return_gz=True,\n",
        ")\n",
        "\n",
        "\n",
        "print(f\"\"\"The bandwidth is {1/dwell:.2f} Hz\n",
        "and {1/(dwell*Nread):.2f} Hz/px for the {Nread*dwell*1000:.2f} ms ADC.\"\"\")\n",
        "\n",
        "adc = mr.make_adc(\n",
        "    num_samples=Nread,\n",
        "    duration=Nread*dwell,\n",
        "    phase_offset=0* np.pi / 180,\n",
        "    system=system,)\n"
      ]
    },
    {
      "cell_type": "code",
      "execution_count": 10,
      "metadata": {
        "id": "uHCgYfk5ho6F"
      },
      "outputs": [],
      "source": [
        "# CONSTRUCT SEQUENCE\n",
        "# Create a new sequence object\n",
        "seq = mr.Sequence(system)\n",
        "seq.add_block(rf_ex)\n",
        "seq.add_block(adc)"
      ]
    },
    {
      "cell_type": "code",
      "execution_count": null,
      "metadata": {
        "id": "pTKscy94kAJM"
      },
      "outputs": [],
      "source": [
        "# check sequence timing\n",
        "(ok, error_report) = seq.check_timing()  # Check whether the timing of the sequence is correct\n",
        "if ok:\n",
        "    print(\"Timing check passed successfully\")\n",
        "else:\n",
        "    print(\"Timing check failed. Error listing follows:\")\n",
        "    [print(e) for e in error_report]"
      ]
    },
    {
      "cell_type": "markdown",
      "metadata": {
        "id": "wDz-JlnazLzn"
      },
      "source": [
        "#Visualization and Export"
      ]
    },
    {
      "cell_type": "code",
      "execution_count": null,
      "metadata": {
        "id": "dQWyYL5LkeGq"
      },
      "outputs": [],
      "source": [
        "#@title plot sequence\n",
        "# plot the entire sequence\n",
        "seq.plot()\n",
        "\n",
        "\n",
        "# plot just a small initial part\n",
        "print('zoom in')\n",
        "seq.plot(time_range=[0, 0.002], time_disp=\"ms\") #\n"
      ]
    },
    {
      "cell_type": "code",
      "execution_count": null,
      "metadata": {
        "id": "qnfYzw-Pzx2H"
      },
      "outputs": [],
      "source": [
        "#@title write seq file and export\n",
        "seq_filename='FID.seq'\n",
        "seq.write(seq_filename)\n",
        "from google.colab import files\n",
        "files.download(seq_filename)  # Download locally"
      ]
    },
    {
      "cell_type": "markdown",
      "metadata": {
        "id": "6ITqLDc40lne"
      },
      "source": [
        "#Simulation"
      ]
    },
    {
      "cell_type": "code",
      "execution_count": null,
      "metadata": {
        "id": "E4QAC8dxl2bw"
      },
      "outputs": [],
      "source": [
        "#@title simulation setup\n",
        "!pip install MRzeroCore &> /dev/null\n",
        "!wget https://github.com/MRsources/MRzero-Core/raw/main/documentation/playground_mr0/numerical_brain_cropped.mat &> /dev/null\n",
        "import MRzeroCore as mr0\n",
        "import utils # several helper functions for simulation and recon"
      ]
    },
    {
      "cell_type": "code",
      "execution_count": null,
      "metadata": {
        "id": "hR6-LrconTVh"
      },
      "outputs": [],
      "source": [
        "#@title simulation (simple)\n",
        "# kscape_adc.shape is [N_coils, N_meas, N_adc]\n",
        "kspace_adc=utils.simulate_2d(seq, noise_level=0, n_coils=1, dB0=+10, B0_scale=1, B0_polynomial=None)\n",
        "#sp_adc, t_adc = util.pulseq_plot(seq,signal=kspace_adc) # for pypulseq below dev branch.\n",
        "seq.plot(plot_now=False)\n",
        "mr0.util.insert_signal_plot(seq, kspace_adc)\n",
        "plt.show()\n"
      ]
    },
    {
      "cell_type": "code",
      "execution_count": null,
      "metadata": {
        "id": "nvVtZFBKyjoL"
      },
      "outputs": [],
      "source": [
        "#@title simulation (advanced)\n",
        "# %% S4: SETUP SPIN SYSTEM/object on which we can run the seq seq_filename\n",
        "sz = [64, 64]\n",
        "\n",
        "# (i) load a phantom object from file\n",
        "obj_p = mr0.VoxelGridPhantom.load_mat('numerical_brain_cropped.mat')\n",
        "obj_p = obj_p.interpolate(sz[0], sz[1], 1)\n",
        "# Manipulate loaded data\n",
        "obj_p.T2dash[:] = 5e-3\n",
        "obj_p.D *= 0\n",
        "obj_p.B0 = obj_p.B0*0+1000    # alter the B0 inhomogeneity\n",
        "# Store PD for comparison\n",
        "PD = obj_p.PD\n",
        "B0 = obj_p.B0\n",
        "\n",
        "obj_p.plot()\n",
        "# Convert Phantom into simulation data\n",
        "obj_p = obj_p.build()\n",
        "\n",
        "\n",
        "# %% S5:. SIMULATE  the external.seq file and add acquired signal to ADC plot\n",
        "\n",
        "# Read in the sequence\n",
        "seq0 = mr0.Sequence.import_file(seq_filename)\n",
        "seq0.plot_kspace_trajectory()\n",
        "# Simulate the sequence\n",
        "graph = mr0.compute_graph(seq0, obj_p, max_state_count=1000, min_state_mag=1e-5)\n",
        "signal = mr0.execute_graph(graph, seq0, obj_p)\n",
        "\n",
        "# PLOT sequence with signal in the ADC subplot\n",
        "#sp_adc, t_adc = util.pulseq_plot(seq,signal=kspace_adc) # for pypulseq below dev branch.\n",
        "seq.plot(plot_now=False)\n",
        "mr0.util.insert_signal_plot(seq, signal)\n",
        "plt.show()"
      ]
    }
  ],
  "metadata": {
    "colab": {
      "provenance": []
    },
    "kernelspec": {
      "display_name": "Python 3",
      "name": "python3"
    }
  },
  "nbformat": 4,
  "nbformat_minor": 0
}