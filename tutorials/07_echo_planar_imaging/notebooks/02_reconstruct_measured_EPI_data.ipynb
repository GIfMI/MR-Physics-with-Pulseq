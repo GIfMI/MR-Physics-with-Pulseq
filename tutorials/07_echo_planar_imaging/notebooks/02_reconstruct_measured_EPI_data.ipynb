{
  "cells": [
    {
      "cell_type": "markdown",
      "source": [
        "# Example EPI reconstruction\n",
        "\n",
        "Very basic EPI reconstruction code, that only can be considered for educational purposes. To use this notebook:\n",
        "\n",
        "\n",
        "\n",
        "1.   Set data_name to the desired data set (imaging or calibration)\n",
        "2.   Set trajectory_delay_reco if known already (not needed for calibration scans)\n",
        "3.   Run all blocks in the notebook\n",
        "4.   For the calibration scan (N/2 ghost correction scan): note the calculated delay (to be used in subsequent imaging scans)\n",
        "\n",
        "Note the special feature of this (and some other) image reconstruction scripts: in Pulseq we often rely on the availaility of both the raw data and the matching Pulseq .seq file, which allows us to make sense of the acquired data without using k-space cointers and alike.  \n",
        "\n"
      ],
      "metadata": {
        "id": "mJe7X9UGeWF1"
      }
    },
    {
      "cell_type": "markdown",
      "source": [
        "# Initial package set-up\n",
        "This is a necessary step for the Colab environment, and it is only slow on the first run"
      ],
      "metadata": {
        "id": "y-JTbHumqEST"
      }
    },
    {
      "cell_type": "code",
      "source": [
        "try:\n",
        "  import pypulseq as mr\n",
        "  print(\"pypulseq package is readily available\\n\")\n",
        "\n",
        "except ImportError or ModuleNotFoundError:\n",
        "  # pypulseq and mapvbvd\n",
        "  !pip install -q git+https://github.com/imr-framework/pypulseq.git pymapvbvd\n",
        "  # Frank's utils\n",
        "  !wget https://raw.githubusercontent.com/pulseq/MR-Physics-with-Pulseq/main/utils/utils.py"
      ],
      "metadata": {
        "id": "1MmzSDftfM0Z",
        "outputId": "0f5645c8-1aa7-4a04-d5f0-0d87f227fa72",
        "colab": {
          "base_uri": "https://localhost:8080/"
        }
      },
      "execution_count": 18,
      "outputs": [
        {
          "output_type": "stream",
          "name": "stdout",
          "text": [
            "pypulseq package is readily available\n",
            "\n"
          ]
        }
      ]
    },
    {
      "cell_type": "markdown",
      "source": [
        "# Python imports"
      ],
      "metadata": {
        "id": "LTyeejePqQVh"
      }
    },
    {
      "cell_type": "code",
      "source": [
        "import math\n",
        "import warnings\n",
        "import os\n",
        "import numpy as np\n",
        "from matplotlib import pyplot as plt\n",
        "\n",
        "import pypulseq as mr\n",
        "\n",
        "import mapvbvd\n",
        "\n",
        "# Frank's utils\n",
        "from utils import animate, simulate_2d, reconstruct, read_raw_data, plot_nd"
      ],
      "metadata": {
        "id": "HmPW2QurfZcW"
      },
      "execution_count": 19,
      "outputs": []
    },
    {
      "cell_type": "markdown",
      "source": [
        "# Set switches and parameters\n"
      ],
      "metadata": {
        "id": "yXWZqRmzdLfh"
      }
    },
    {
      "cell_type": "code",
      "source": [
        "# name of the data set, without / or extension (.dat or .seq)\n",
        "data_name = \"2024-01-31-182613\" # imag 96x96 noRS\n",
        "#data_name = \"2024-01-31-182040\" # imag 96x96 noRS invPE\n",
        "#data_name = \"2024-01-31-182336\" # calib 96x96 noRS\n",
        "\n",
        "remote_path = \"https://raw.githubusercontent.com/pulseq/MR-Physics-with-Pulseq/main/tutorials/07_echo_planar_imaging/data/\"\n",
        "\n",
        "trajectory_delay_reco=-3.22e-6\n",
        "\n",
        "# Set system limits (we may need it for some Pulseq functions)\n",
        "system = mr.Opts(\n",
        "    max_grad=32,\n",
        "    grad_unit=\"mT/m\",\n",
        "    max_slew=130,\n",
        "    slew_unit=\"T/m/s\",\n",
        "    rf_ringdown_time=20e-6,\n",
        "    rf_dead_time=100e-6,\n",
        "    adc_dead_time=10e-6,\n",
        ")\n",
        "\n",
        "# More advansed options and switches\n",
        "plot: bool = True\n",
        "animate: bool = False\n",
        "simulate: bool = True\n",
        "write_seq: bool = True"
      ],
      "metadata": {
        "id": "IEtZ-QF4f-X8"
      },
      "execution_count": 20,
      "outputs": []
    },
    {
      "cell_type": "code",
      "source": [
        "# download data and sequence if not yet there\n",
        "for file_ext in (\".seq\",\".dat\"):\n",
        "  if not os.path.isfile(data_name+file_ext):\n",
        "    !wget {remote_path+data_name+file_ext}"
      ],
      "metadata": {
        "id": "YIhlfU8OwB8J"
      },
      "execution_count": 21,
      "outputs": []
    },
    {
      "cell_type": "markdown",
      "source": [
        "#Load sequence and data\n",
        "\n",
        "Load data using pymapvbvd and sequence from a corresponding *.seq file. We expect both to share the same name"
      ],
      "metadata": {
        "id": "FlLWo3dVx1qK"
      }
    },
    {
      "cell_type": "code",
      "source": [
        "# Load raw data; the returned 3D array is ordered as: [channels, adc_events, adc_samples]\n",
        "kdata = read_raw_data(data_name + '.dat')\n",
        "\n",
        "# Load associated sequence file\n",
        "seq = mr.Sequence(system)\n",
        "seq.read(data_name + '.seq')"
      ],
      "metadata": {
        "id": "0UbE5tmtxFaq",
        "colab": {
          "base_uri": "https://localhost:8080/",
          "height": 84,
          "referenced_widgets": [
            "51740c7dc2934561845ec103c7bdfe97",
            "2eee136d1d464edba1f18ae277d060c9",
            "d3b56cd4b0b6479da6999e2c8d77eac8",
            "3bb53e6cd9ce4920a9527c0ccb91dd5a",
            "2ccdca95f2384eb39fec217ef0160e55",
            "c2ef0ecfa7794aecb1db1222dbd2c510",
            "e3a55c34f7b246278144358e977d992f",
            "80cbebb7d231460abaa9c7f71ac787f6",
            "60b746ecc8654079906474b77423fc7e",
            "2f4dcb88e48d42d7b908b05cf4a8fa51",
            "66b678ed02fb487882cd4f39e2e3d8cf",
            "4c3e9c281a1749b790cc01cca53029c4",
            "679d2f8bccda4f23be5d25732ea5ca43",
            "89a128ea39704b22a61c139f8c61cf0c",
            "374107502e1a41389c55a762784992b0",
            "301d20443eee462bb4e1510224d42e2f",
            "cb64bbbe94f44fb6b9317c11605971ab",
            "81d82119d66349e1b125effd727cb204",
            "ed2cacd43f964a309a9b50d28aa8fd27",
            "6177d265b58140aa9eb7f352be4721f6",
            "2ff2242c3be448cf84593523cbd54e60",
            "58d898e108064e58ba915109ecb20ba4"
          ]
        },
        "outputId": "deaf8cef-990d-403b-98aa-9cf4caf1f134"
      },
      "execution_count": 22,
      "outputs": [
        {
          "output_type": "stream",
          "name": "stdout",
          "text": [
            "pymapVBVD version 0.5.7\n",
            "Software version: VB\n"
          ]
        },
        {
          "output_type": "display_data",
          "data": {
            "text/plain": [
              "Scan 1/1, read all mdhs:   0%|          | 0.00/609k [00:00<?, ?B/s]"
            ],
            "application/vnd.jupyter.widget-view+json": {
              "version_major": 2,
              "version_minor": 0,
              "model_id": "51740c7dc2934561845ec103c7bdfe97"
            }
          },
          "metadata": {}
        },
        {
          "output_type": "display_data",
          "data": {
            "text/plain": [
              "read data:   0%|          | 0/96 [00:00<?, ?it/s]"
            ],
            "application/vnd.jupyter.widget-view+json": {
              "version_major": 2,
              "version_minor": 0,
              "model_id": "4c3e9c281a1749b790cc01cca53029c4"
            }
          },
          "metadata": {}
        }
      ]
    },
    {
      "cell_type": "markdown",
      "source": [
        "# Visualize the sequence\n",
        "Here we just plot the sequence timing. Due to the limitations of the Colab environment the plots are not live, no interactive zoom-in / zoom-out is possible, therefore it is necessary to use the time_range option"
      ],
      "metadata": {
        "id": "kmNXMnPjq6qn"
      }
    },
    {
      "cell_type": "code",
      "source": [
        "if plot:\n",
        "  #\n",
        "  print(\"Plot of the entire sequence\")\n",
        "  seq.plot() # plot the entire sequence"
      ],
      "metadata": {
        "id": "dQWyYL5LkeGq",
        "outputId": "371f6968-3acc-49ef-cbed-8f4664cb7723",
        "colab": {
          "base_uri": "https://localhost:8080/",
          "height": 973
        }
      },
      "execution_count": 23,
      "outputs": [
        {
          "output_type": "stream",
          "name": "stdout",
          "text": [
            "Plot of the entire sequence\n"
          ]
        },
        {
          "output_type": "display_data",
          "data": {
            "text/plain": [
              "<Figure size 640x480 with 3 Axes>"
            ],
            "image/png": "[encoded data removed]"
          },
          "metadata": {}
        },
        {
          "output_type": "display_data",
          "data": {
            "text/plain": [
              "<Figure size 640x480 with 3 Axes>"
            ],
            "image/png": "[encoded data removed]"
          },
          "metadata": {}
        }
      ]
    },
    {
      "cell_type": "code",
      "source": [
        "[k_traj_adc, k_traj, t_excitation, t_refocusing, t_adc] = seq.calculate_kspace()\n",
        "plt.figure(figsize=(10, 10))\n",
        "plt.plot(k_traj[0,],k_traj[1,], 'b-')\n",
        "plt.plot(k_traj_adc[0,],k_traj_adc[1,], 'r.')\n",
        "ax = plt.gca()\n",
        "ax.set_aspect('equal', adjustable='box')\n",
        "plt.title('k-space trajectory')\n",
        "plt.xlabel(r'$k_x \\mathregular{\\ /m^{-1}}$')\n",
        "plt.ylabel(r'$k_y \\mathregular{\\ /m^{-1}}$')\n",
        "plt.draw()"
      ],
      "metadata": {
        "colab": {
          "base_uri": "https://localhost:8080/",
          "height": 746
        },
        "id": "WLTTZCHy5nIg",
        "outputId": "c893e689-5b71-4801-9034-445670148e6b"
      },
      "execution_count": 24,
      "outputs": [
        {
          "output_type": "display_data",
          "data": {
            "text/plain": [
              "<Figure size 1000x1000 with 1 Axes>"
            ],
            "image/png": "[encoded data removed]"
          },
          "metadata": {}
        }
      ]
    },
    {
      "cell_type": "markdown",
      "source": [
        "#Detect sequence and data parameters"
      ],
      "metadata": {
        "id": "SxKHp5Kx3KFp"
      }
    },
    {
      "cell_type": "code",
      "source": [
        "adc_dwell=t_adc[2]-t_adc[1]\n",
        "# let's extract the following two parameters from t_adc\n",
        "adc_samples=np.where(np.diff(t_adc)>adc_dwell*1.01)[0][0]+1\n",
        "num_readouts=int(np.round(len(t_adc)/adc_samples))\n",
        "# assume no oversampling and a single-slice acquisition\n",
        "Nx=adc_samples\n",
        "Ny=num_readouts\n",
        "# in the above example we extract ADC parameters from the t_adc array, but these could also be acquired as:\n",
        "#Nx = kdata.shape[2]\n",
        "#Ny = kdata.shape[1]\n",
        "\n",
        "# check whether this is imaging or calibration scan\n",
        "calibration_scan = np.all(k_traj_adc[1,]==0)"
      ],
      "metadata": {
        "id": "iys5uWZR3QET"
      },
      "execution_count": 25,
      "outputs": []
    },
    {
      "cell_type": "markdown",
      "source": [
        "#Data display"
      ],
      "metadata": {
        "id": "zZJonpjrzHga"
      }
    },
    {
      "cell_type": "code",
      "source": [
        "# Display raw data\n",
        "plt.figure()\n",
        "plt.imshow(abs(kdata[0].reshape(-1,adc_samples)))\n",
        "plt.title('Magnitude of acquired raw data'); # raw data, not k-space data (odd/even lines not reverted)\n",
        "\n",
        "# Display the data more correctly\n",
        "kdata_swapped=np.zeros_like(kdata)\n",
        "kdata_swapped[:,0::2,:]=kdata[:,0::2,:]\n",
        "kdata_swapped[:,1::2,:]=kdata[:,1::2,::-1]\n",
        "plt.figure()\n",
        "plt.imshow(abs(kdata_swapped[0].reshape(-1,adc_samples)))\n",
        "plt.title('Magnitude of k-space data (odd lines swapped)'); # raw data, not k-space data (odd/even lines not reverted)\n"
      ],
      "metadata": {
        "colab": {
          "base_uri": "https://localhost:8080/",
          "height": 887
        },
        "id": "hLoKdmAhbdvM",
        "outputId": "cc5dbc80-361b-4bbb-80b3-10a4f6de2e6d"
      },
      "execution_count": 26,
      "outputs": [
        {
          "output_type": "display_data",
          "data": {
            "text/plain": [
              "<Figure size 640x480 with 1 Axes>"
            ],
            "image/png": "[encoded data removed]"
          },
          "metadata": {}
        },
        {
          "output_type": "display_data",
          "data": {
            "text/plain": [
              "<Figure size 640x480 with 1 Axes>"
            ],
            "image/png": "[encoded data removed]"
          },
          "metadata": {}
        }
      ]
    },
    {
      "cell_type": "markdown",
      "source": [
        "#Reconstruction"
      ],
      "metadata": {
        "id": "WZZiRMLPb3ul"
      }
    },
    {
      "cell_type": "code",
      "source": [
        "if not calibration_scan:\n",
        "  rec = reconstruct(kdata, seq, trajectory_delay=trajectory_delay_reco, cartesian=False,shape=(Nx,Ny)) # for the trajectory delay to work with the basic (non-ramp-sampling EPI) cartesian=False is needed\n",
        "\n",
        "  #plt.figure()\n",
        "  #plt.imshow(abs(rec), origin='lower', cmap=plt.get_cmap('gray'));\n",
        "  plot_nd(rec)\n",
        "else:\n",
        "  print('calibration scan detected, see below')"
      ],
      "metadata": {
        "colab": {
          "base_uri": "https://localhost:8080/",
          "height": 479,
          "referenced_widgets": [
            "b994a3f0a9154297bf18e3d0aa49d0e3",
            "7d51eda05e8b439eb9bc023c537c2d1a",
            "9e41d41da083417cb84d64f361b33dfa",
            "703438c4d82a45509699cad42c2a1833",
            "2ac4c6bd11d74a0ea254afb432891872",
            "454a293f73ec453e93894f4b184b828d",
            "718e08e9c1bb4db1ba6de4e743b756e7",
            "1c73d1750c254b109cca56084b8ee9aa",
            "d81b7390ffa542eb837fd1079971ef6c",
            "0650039d25fb4cfcae49f3855d16e7ca",
            "36dc6dfacf454d0b8bb8c243c2f24779"
          ]
        },
        "id": "zeEk_c0Ob6jE",
        "outputId": "51b39968-dadd-443d-d7ec-1cd387fb48ec"
      },
      "execution_count": 29,
      "outputs": [
        {
          "output_type": "stream",
          "name": "stdout",
          "text": [
            "Automatically detected 2D sequence\n"
          ]
        },
        {
          "output_type": "display_data",
          "data": {
            "text/plain": [
              "LinearLeastSquares:   0%|          | 0/10 [00:00<?, ?it/s]"
            ],
            "application/vnd.jupyter.widget-view+json": {
              "version_major": 2,
              "version_minor": 0,
              "model_id": "b994a3f0a9154297bf18e3d0aa49d0e3"
            }
          },
          "metadata": {}
        },
        {
          "output_type": "display_data",
          "data": {
            "text/plain": [
              "<Figure size 640x480 with 1 Axes>"
            ],
            "image/png": "[encoded data removed]"
          },
          "metadata": {}
        }
      ]
    },
    {
      "cell_type": "code",
      "source": [
        "if calibration_scan:\n",
        "  # we will calculate the trajectory delay based on the phase difference between the odd and even lines\n",
        "  data_odd=np.fft.fftshift(np.fft.ifft(np.fft.ifftshift(kdata[:,0::2,:], axes=2), axis=2), axes=2)\n",
        "  data_even=np.fft.fftshift(np.fft.ifft(np.fft.ifftshift(kdata[:,1::2,::-1], axes=2), axis=2), axes=2)\n",
        "  cmplx_diff=data_even*np.conj(data_odd);\n",
        "\n",
        "  plt.figure()\n",
        "  plt.imshow(np.angle(cmplx_diff[0].reshape(-1,adc_samples)))\n",
        "  plt.title('Phase difference between odd and even echoes');\n",
        "\n",
        "  cmplx_slope=cmplx_diff[:,:,1:]*np.conj(cmplx_diff[:,:,0:-1]);\n",
        "  mslope_phs_pp=np.angle(np.concatenate(cmplx_slope).sum()); # average phase slope per pixel\n",
        "\n",
        "  # FT shift theorem: one pixel shift gives phase ramp of +- pi in the FT domain\n",
        "  measured_traj_delay=mslope_phs_pp*adc_samples/(2*np.pi)*adc_dwell/2; # /2 because both odd and even lines are shifted in the opposite directions by half a shift difference\n",
        "  print('measured trajectory delay is {} s\\n', measured_traj_delay);\n",
        "  print('type this value as trajectory_delay in the section above and re-run the image reconstruction script\\n');\n"
      ],
      "metadata": {
        "id": "LrRjMRlY9Woo"
      },
      "execution_count": 28,
      "outputs": []
    },
    {
      "cell_type": "markdown",
      "source": [
        "#Exercises\n",
        "* Load the first experimental data set and **find settings** needed to reconstruct a gost-free image  \n",
        "* Find how the **ADC dwell time** is extracted from the Pulseq sequence accomponying the data\n",
        "* Caclulate **echo spacing** and **ADC sampling efficiency** based on the analysis of the vector `t_adc` (the vector holding times at which each ADC sample was acquired)\n",
        "* Load and reconstruct further data sets from the github directory and note **how ADC sampling efficiency scales** in dependence of the echo spacing  "
      ],
      "metadata": {
        "id": "E6HKi2f5TpL8"
      }
    },
    {
      "cell_type": "markdown",
      "source": [
        "# Advanced (optional) exercises\n",
        "* for non-ramp-sampled acquisitions implement EPI image reconstruction without nufft. This is done by:\n",
        "1.  flipping odd lines\n",
        "2.  applying FFT in the read dimension\n",
        "3.  applying phase correction along the read dimension\n",
        "4.  applying FFT along the phase direction\n",
        "Tip: it is useful to use calibration data as if they are imaging data while debugging the above code.\n",
        "\n",
        "* for those feeling really adventurous: implement regridding the the read dimension to make the above reconsctuction compatible with the ramp-sampled EPI. Does this approach has particular limitations?\n"
      ],
      "metadata": {
        "id": "f1q5xIpisA89"
      }
    }
  ],
  "metadata": {
    "colab": {
      "provenance": []
    },
    "kernelspec": {
      "display_name": "Python 3",
      "name": "python3"
    },
    "widgets": {
      "application/vnd.jupyter.widget-state+json": {
        "51740c7dc2934561845ec103c7bdfe97": {
          "model_module": "@jupyter-widgets/controls",
          "model_name": "HBoxModel",
          "model_module_version": "1.5.0",
          "state": {
            "_dom_classes": [],
            "_model_module": "@jupyter-widgets/controls",
            "_model_module_version": "1.5.0",
            "_model_name": "HBoxModel",
            "_view_count": null,
            "_view_module": "@jupyter-widgets/controls",
            "_view_module_version": "1.5.0",
            "_view_name": "HBoxView",
            "box_style": "",
            "children": [
              "IPY_MODEL_2eee136d1d464edba1f18ae277d060c9",
              "IPY_MODEL_d3b56cd4b0b6479da6999e2c8d77eac8",
              "IPY_MODEL_3bb53e6cd9ce4920a9527c0ccb91dd5a"
            ],
            "layout": "IPY_MODEL_2ccdca95f2384eb39fec217ef0160e55"
          }
        },
        "2eee136d1d464edba1f18ae277d060c9": {
          "model_module": "@jupyter-widgets/controls",
          "model_name": "HTMLModel",
          "model_module_version": "1.5.0",
          "state": {
            "_dom_classes": [],
            "_model_module": "@jupyter-widgets/controls",
            "_model_module_version": "1.5.0",
            "_model_name": "HTMLModel",
            "_view_count": null,
            "_view_module": "@jupyter-widgets/controls",
            "_view_module_version": "1.5.0",
            "_view_name": "HTMLView",
            "description": "",
            "description_tooltip": null,
            "layout": "IPY_MODEL_c2ef0ecfa7794aecb1db1222dbd2c510",
            "placeholder": "​",
            "style": "IPY_MODEL_e3a55c34f7b246278144358e977d992f",
            "value": "Scan 1/1, read all mdhs: 100%"
          }
        },
        "d3b56cd4b0b6479da6999e2c8d77eac8": {
          "model_module": "@jupyter-widgets/controls",
          "model_name": "FloatProgressModel",
          "model_module_version": "1.5.0",
          "state": {
            "_dom_classes": [],
            "_model_module": "@jupyter-widgets/controls",
            "_model_module_version": "1.5.0",
            "_model_name": "FloatProgressModel",
            "_view_count": null,
            "_view_module": "@jupyter-widgets/controls",
            "_view_module_version": "1.5.0",
            "_view_name": "ProgressView",
            "bar_style": "danger",
            "description": "",
            "description_tooltip": null,
            "layout": "IPY_MODEL_80cbebb7d231460abaa9c7f71ac787f6",
            "max": 623232,
            "min": 0,
            "orientation": "horizontal",
            "style": "IPY_MODEL_60b746ecc8654079906474b77423fc7e",
            "value": 622080
          }
        },
        "3bb53e6cd9ce4920a9527c0ccb91dd5a": {
          "model_module": "@jupyter-widgets/controls",
          "model_name": "HTMLModel",
          "model_module_version": "1.5.0",
          "state": {
            "_dom_classes": [],
            "_model_module": "@jupyter-widgets/controls",
            "_model_module_version": "1.5.0",
            "_model_name": "HTMLModel",
            "_view_count": null,
            "_view_module": "@jupyter-widgets/controls",
            "_view_module_version": "1.5.0",
            "_view_name": "HTMLView",
            "description": "",
            "description_tooltip": null,
            "layout": "IPY_MODEL_2f4dcb88e48d42d7b908b05cf4a8fa51",
            "placeholder": "​",
            "style": "IPY_MODEL_66b678ed02fb487882cd4f39e2e3d8cf",
            "value": " 608k/609k [00:00&lt;00:00, 7.32MB/s]"
          }
        },
        "2ccdca95f2384eb39fec217ef0160e55": {
          "model_module": "@jupyter-widgets/base",
          "model_name": "LayoutModel",
          "model_module_version": "1.2.0",
          "state": {
            "_model_module": "@jupyter-widgets/base",
            "_model_module_version": "1.2.0",
            "_model_name": "LayoutModel",
            "_view_count": null,
            "_view_module": "@jupyter-widgets/base",
            "_view_module_version": "1.2.0",
            "_view_name": "LayoutView",
            "align_content": null,
            "align_items": null,
            "align_self": null,
            "border": null,
            "bottom": null,
            "display": null,
            "flex": null,
            "flex_flow": null,
            "grid_area": null,
            "grid_auto_columns": null,
            "grid_auto_flow": null,
            "grid_auto_rows": null,
            "grid_column": null,
            "grid_gap": null,
            "grid_row": null,
            "grid_template_areas": null,
            "grid_template_columns": null,
            "grid_template_rows": null,
            "height": null,
            "justify_content": null,
            "justify_items": null,
            "left": null,
            "margin": null,
            "max_height": null,
            "max_width": null,
            "min_height": null,
            "min_width": null,
            "object_fit": null,
            "object_position": null,
            "order": null,
            "overflow": null,
            "overflow_x": null,
            "overflow_y": null,
            "padding": null,
            "right": null,
            "top": null,
            "visibility": null,
            "width": null
          }
        },
        "c2ef0ecfa7794aecb1db1222dbd2c510": {
          "model_module": "@jupyter-widgets/base",
          "model_name": "LayoutModel",
          "model_module_version": "1.2.0",
          "state": {
            "_model_module": "@jupyter-widgets/base",
            "_model_module_version": "1.2.0",
            "_model_name": "LayoutModel",
            "_view_count": null,
            "_view_module": "@jupyter-widgets/base",
            "_view_module_version": "1.2.0",
            "_view_name": "LayoutView",
            "align_content": null,
            "align_items": null,
            "align_self": null,
            "border": null,
            "bottom": null,
            "display": null,
            "flex": null,
            "flex_flow": null,
            "grid_area": null,
            "grid_auto_columns": null,
            "grid_auto_flow": null,
            "grid_auto_rows": null,
            "grid_column": null,
            "grid_gap": null,
            "grid_row": null,
            "grid_template_areas": null,
            "grid_template_columns": null,
            "grid_template_rows": null,
            "height": null,
            "justify_content": null,
            "justify_items": null,
            "left": null,
            "margin": null,
            "max_height": null,
            "max_width": null,
            "min_height": null,
            "min_width": null,
            "object_fit": null,
            "object_position": null,
            "order": null,
            "overflow": null,
            "overflow_x": null,
            "overflow_y": null,
            "padding": null,
            "right": null,
            "top": null,
            "visibility": null,
            "width": null
          }
        },
        "e3a55c34f7b246278144358e977d992f": {
          "model_module": "@jupyter-widgets/controls",
          "model_name": "DescriptionStyleModel",
          "model_module_version": "1.5.0",
          "state": {
            "_model_module": "@jupyter-widgets/controls",
            "_model_module_version": "1.5.0",
            "_model_name": "DescriptionStyleModel",
            "_view_count": null,
            "_view_module": "@jupyter-widgets/base",
            "_view_module_version": "1.2.0",
            "_view_name": "StyleView",
            "description_width": ""
          }
        },
        "80cbebb7d231460abaa9c7f71ac787f6": {
          "model_module": "@jupyter-widgets/base",
          "model_name": "LayoutModel",
          "model_module_version": "1.2.0",
          "state": {
            "_model_module": "@jupyter-widgets/base",
            "_model_module_version": "1.2.0",
            "_model_name": "LayoutModel",
            "_view_count": null,
            "_view_module": "@jupyter-widgets/base",
            "_view_module_version": "1.2.0",
            "_view_name": "LayoutView",
            "align_content": null,
            "align_items": null,
            "align_self": null,
            "border": null,
            "bottom": null,
            "display": null,
            "flex": null,
            "flex_flow": null,
            "grid_area": null,
            "grid_auto_columns": null,
            "grid_auto_flow": null,
            "grid_auto_rows": null,
            "grid_column": null,
            "grid_gap": null,
            "grid_row": null,
            "grid_template_areas": null,
            "grid_template_columns": null,
            "grid_template_rows": null,
            "height": null,
            "justify_content": null,
            "justify_items": null,
            "left": null,
            "margin": null,
            "max_height": null,
            "max_width": null,
            "min_height": null,
            "min_width": null,
            "object_fit": null,
            "object_position": null,
            "order": null,
            "overflow": null,
            "overflow_x": null,
            "overflow_y": null,
            "padding": null,
            "right": null,
            "top": null,
            "visibility": null,
            "width": null
          }
        },
        "60b746ecc8654079906474b77423fc7e": {
          "model_module": "@jupyter-widgets/controls",
          "model_name": "ProgressStyleModel",
          "model_module_version": "1.5.0",
          "state": {
            "_model_module": "@jupyter-widgets/controls",
            "_model_module_version": "1.5.0",
            "_model_name": "ProgressStyleModel",
            "_view_count": null,
            "_view_module": "@jupyter-widgets/base",
            "_view_module_version": "1.2.0",
            "_view_name": "StyleView",
            "bar_color": null,
            "description_width": ""
          }
        },
        "2f4dcb88e48d42d7b908b05cf4a8fa51": {
          "model_module": "@jupyter-widgets/base",
          "model_name": "LayoutModel",
          "model_module_version": "1.2.0",
          "state": {
            "_model_module": "@jupyter-widgets/base",
            "_model_module_version": "1.2.0",
            "_model_name": "LayoutModel",
            "_view_count": null,
            "_view_module": "@jupyter-widgets/base",
            "_view_module_version": "1.2.0",
            "_view_name": "LayoutView",
            "align_content": null,
            "align_items": null,
            "align_self": null,
            "border": null,
            "bottom": null,
            "display": null,
            "flex": null,
            "flex_flow": null,
            "grid_area": null,
            "grid_auto_columns": null,
            "grid_auto_flow": null,
            "grid_auto_rows": null,
            "grid_column": null,
            "grid_gap": null,
            "grid_row": null,
            "grid_template_areas": null,
            "grid_template_columns": null,
            "grid_template_rows": null,
            "height": null,
            "justify_content": null,
            "justify_items": null,
            "left": null,
            "margin": null,
            "max_height": null,
            "max_width": null,
            "min_height": null,
            "min_width": null,
            "object_fit": null,
            "object_position": null,
            "order": null,
            "overflow": null,
            "overflow_x": null,
            "overflow_y": null,
            "padding": null,
            "right": null,
            "top": null,
            "visibility": null,
            "width": null
          }
        },
        "66b678ed02fb487882cd4f39e2e3d8cf": {
          "model_module": "@jupyter-widgets/controls",
          "model_name": "DescriptionStyleModel",
          "model_module_version": "1.5.0",
          "state": {
            "_model_module": "@jupyter-widgets/controls",
            "_model_module_version": "1.5.0",
            "_model_name": "DescriptionStyleModel",
            "_view_count": null,
            "_view_module": "@jupyter-widgets/base",
            "_view_module_version": "1.2.0",
            "_view_name": "StyleView",
            "description_width": ""
          }
        },
        "4c3e9c281a1749b790cc01cca53029c4": {
          "model_module": "@jupyter-widgets/controls",
          "model_name": "HBoxModel",
          "model_module_version": "1.5.0",
          "state": {
            "_dom_classes": [],
            "_model_module": "@jupyter-widgets/controls",
            "_model_module_version": "1.5.0",
            "_model_name": "HBoxModel",
            "_view_count": null,
            "_view_module": "@jupyter-widgets/controls",
            "_view_module_version": "1.5.0",
            "_view_name": "HBoxView",
            "box_style": "",
            "children": [
              "IPY_MODEL_679d2f8bccda4f23be5d25732ea5ca43",
              "IPY_MODEL_89a128ea39704b22a61c139f8c61cf0c",
              "IPY_MODEL_374107502e1a41389c55a762784992b0"
            ],
            "layout": "IPY_MODEL_301d20443eee462bb4e1510224d42e2f"
          }
        },
        "679d2f8bccda4f23be5d25732ea5ca43": {
          "model_module": "@jupyter-widgets/controls",
          "model_name": "HTMLModel",
          "model_module_version": "1.5.0",
          "state": {
            "_dom_classes": [],
            "_model_module": "@jupyter-widgets/controls",
            "_model_module_version": "1.5.0",
            "_model_name": "HTMLModel",
            "_view_count": null,
            "_view_module": "@jupyter-widgets/controls",
            "_view_module_version": "1.5.0",
            "_view_name": "HTMLView",
            "description": "",
            "description_tooltip": null,
            "layout": "IPY_MODEL_cb64bbbe94f44fb6b9317c11605971ab",
            "placeholder": "​",
            "style": "IPY_MODEL_81d82119d66349e1b125effd727cb204",
            "value": "read data:   0%"
          }
        },
        "89a128ea39704b22a61c139f8c61cf0c": {
          "model_module": "@jupyter-widgets/controls",
          "model_name": "FloatProgressModel",
          "model_module_version": "1.5.0",
          "state": {
            "_dom_classes": [],
            "_model_module": "@jupyter-widgets/controls",
            "_model_module_version": "1.5.0",
            "_model_name": "FloatProgressModel",
            "_view_count": null,
            "_view_module": "@jupyter-widgets/controls",
            "_view_module_version": "1.5.0",
            "_view_name": "ProgressView",
            "bar_style": "",
            "description": "",
            "description_tooltip": null,
            "layout": "IPY_MODEL_ed2cacd43f964a309a9b50d28aa8fd27",
            "max": 96,
            "min": 0,
            "orientation": "horizontal",
            "style": "IPY_MODEL_6177d265b58140aa9eb7f352be4721f6",
            "value": 96
          }
        },
        "374107502e1a41389c55a762784992b0": {
          "model_module": "@jupyter-widgets/controls",
          "model_name": "HTMLModel",
          "model_module_version": "1.5.0",
          "state": {
            "_dom_classes": [],
            "_model_module": "@jupyter-widgets/controls",
            "_model_module_version": "1.5.0",
            "_model_name": "HTMLModel",
            "_view_count": null,
            "_view_module": "@jupyter-widgets/controls",
            "_view_module_version": "1.5.0",
            "_view_name": "HTMLView",
            "description": "",
            "description_tooltip": null,
            "layout": "IPY_MODEL_2ff2242c3be448cf84593523cbd54e60",
            "placeholder": "​",
            "style": "IPY_MODEL_58d898e108064e58ba915109ecb20ba4",
            "value": " 0/96 [00:00&lt;?, ?it/s]"
          }
        },
        "301d20443eee462bb4e1510224d42e2f": {
          "model_module": "@jupyter-widgets/base",
          "model_name": "LayoutModel",
          "model_module_version": "1.2.0",
          "state": {
            "_model_module": "@jupyter-widgets/base",
            "_model_module_version": "1.2.0",
            "_model_name": "LayoutModel",
            "_view_count": null,
            "_view_module": "@jupyter-widgets/base",
            "_view_module_version": "1.2.0",
            "_view_name": "LayoutView",
            "align_content": null,
            "align_items": null,
            "align_self": null,
            "border": null,
            "bottom": null,
            "display": null,
            "flex": null,
            "flex_flow": null,
            "grid_area": null,
            "grid_auto_columns": null,
            "grid_auto_flow": null,
            "grid_auto_rows": null,
            "grid_column": null,
            "grid_gap": null,
            "grid_row": null,
            "grid_template_areas": null,
            "grid_template_columns": null,
            "grid_template_rows": null,
            "height": null,
            "justify_content": null,
            "justify_items": null,
            "left": null,
            "margin": null,
            "max_height": null,
            "max_width": null,
            "min_height": null,
            "min_width": null,
            "object_fit": null,
            "object_position": null,
            "order": null,
            "overflow": null,
            "overflow_x": null,
            "overflow_y": null,
            "padding": null,
            "right": null,
            "top": null,
            "visibility": "hidden",
            "width": null
          }
        },
        "cb64bbbe94f44fb6b9317c11605971ab": {
          "model_module": "@jupyter-widgets/base",
          "model_name": "LayoutModel",
          "model_module_version": "1.2.0",
          "state": {
            "_model_module": "@jupyter-widgets/base",
            "_model_module_version": "1.2.0",
            "_model_name": "LayoutModel",
            "_view_count": null,
            "_view_module": "@jupyter-widgets/base",
            "_view_module_version": "1.2.0",
            "_view_name": "LayoutView",
            "align_content": null,
            "align_items": null,
            "align_self": null,
            "border": null,
            "bottom": null,
            "display": null,
            "flex": null,
            "flex_flow": null,
            "grid_area": null,
            "grid_auto_columns": null,
            "grid_auto_flow": null,
            "grid_auto_rows": null,
            "grid_column": null,
            "grid_gap": null,
            "grid_row": null,
            "grid_template_areas": null,
            "grid_template_columns": null,
            "grid_template_rows": null,
            "height": null,
            "justify_content": null,
            "justify_items": null,
            "left": null,
            "margin": null,
            "max_height": null,
            "max_width": null,
            "min_height": null,
            "min_width": null,
            "object_fit": null,
            "object_position": null,
            "order": null,
            "overflow": null,
            "overflow_x": null,
            "overflow_y": null,
            "padding": null,
            "right": null,
            "top": null,
            "visibility": null,
            "width": null
          }
        },
        "81d82119d66349e1b125effd727cb204": {
          "model_module": "@jupyter-widgets/controls",
          "model_name": "DescriptionStyleModel",
          "model_module_version": "1.5.0",
          "state": {
            "_model_module": "@jupyter-widgets/controls",
            "_model_module_version": "1.5.0",
            "_model_name": "DescriptionStyleModel",
            "_view_count": null,
            "_view_module": "@jupyter-widgets/base",
            "_view_module_version": "1.2.0",
            "_view_name": "StyleView",
            "description_width": ""
          }
        },
        "ed2cacd43f964a309a9b50d28aa8fd27": {
          "model_module": "@jupyter-widgets/base",
          "model_name": "LayoutModel",
          "model_module_version": "1.2.0",
          "state": {
            "_model_module": "@jupyter-widgets/base",
            "_model_module_version": "1.2.0",
            "_model_name": "LayoutModel",
            "_view_count": null,
            "_view_module": "@jupyter-widgets/base",
            "_view_module_version": "1.2.0",
            "_view_name": "LayoutView",
            "align_content": null,
            "align_items": null,
            "align_self": null,
            "border": null,
            "bottom": null,
            "display": null,
            "flex": null,
            "flex_flow": null,
            "grid_area": null,
            "grid_auto_columns": null,
            "grid_auto_flow": null,
            "grid_auto_rows": null,
            "grid_column": null,
            "grid_gap": null,
            "grid_row": null,
            "grid_template_areas": null,
            "grid_template_columns": null,
            "grid_template_rows": null,
            "height": null,
            "justify_content": null,
            "justify_items": null,
            "left": null,
            "margin": null,
            "max_height": null,
            "max_width": null,
            "min_height": null,
            "min_width": null,
            "object_fit": null,
            "object_position": null,
            "order": null,
            "overflow": null,
            "overflow_x": null,
            "overflow_y": null,
            "padding": null,
            "right": null,
            "top": null,
            "visibility": null,
            "width": null
          }
        },
        "6177d265b58140aa9eb7f352be4721f6": {
          "model_module": "@jupyter-widgets/controls",
          "model_name": "ProgressStyleModel",
          "model_module_version": "1.5.0",
          "state": {
            "_model_module": "@jupyter-widgets/controls",
            "_model_module_version": "1.5.0",
            "_model_name": "ProgressStyleModel",
            "_view_count": null,
            "_view_module": "@jupyter-widgets/base",
            "_view_module_version": "1.2.0",
            "_view_name": "StyleView",
            "bar_color": null,
            "description_width": ""
          }
        },
        "2ff2242c3be448cf84593523cbd54e60": {
          "model_module": "@jupyter-widgets/base",
          "model_name": "LayoutModel",
          "model_module_version": "1.2.0",
          "state": {
            "_model_module": "@jupyter-widgets/base",
            "_model_module_version": "1.2.0",
            "_model_name": "LayoutModel",
            "_view_count": null,
            "_view_module": "@jupyter-widgets/base",
            "_view_module_version": "1.2.0",
            "_view_name": "LayoutView",
            "align_content": null,
            "align_items": null,
            "align_self": null,
            "border": null,
            "bottom": null,
            "display": null,
            "flex": null,
            "flex_flow": null,
            "grid_area": null,
            "grid_auto_columns": null,
            "grid_auto_flow": null,
            "grid_auto_rows": null,
            "grid_column": null,
            "grid_gap": null,
            "grid_row": null,
            "grid_template_areas": null,
            "grid_template_columns": null,
            "grid_template_rows": null,
            "height": null,
            "justify_content": null,
            "justify_items": null,
            "left": null,
            "margin": null,
            "max_height": null,
            "max_width": null,
            "min_height": null,
            "min_width": null,
            "object_fit": null,
            "object_position": null,
            "order": null,
            "overflow": null,
            "overflow_x": null,
            "overflow_y": null,
            "padding": null,
            "right": null,
            "top": null,
            "visibility": null,
            "width": null
          }
        },
        "58d898e108064e58ba915109ecb20ba4": {
          "model_module": "@jupyter-widgets/controls",
          "model_name": "DescriptionStyleModel",
          "model_module_version": "1.5.0",
          "state": {
            "_model_module": "@jupyter-widgets/controls",
            "_model_module_version": "1.5.0",
            "_model_name": "DescriptionStyleModel",
            "_view_count": null,
            "_view_module": "@jupyter-widgets/base",
            "_view_module_version": "1.2.0",
            "_view_name": "StyleView",
            "description_width": ""
          }
        },
        "b994a3f0a9154297bf18e3d0aa49d0e3": {
          "model_module": "@jupyter-widgets/controls",
          "model_name": "HBoxModel",
          "model_module_version": "1.5.0",
          "state": {
            "_dom_classes": [],
            "_model_module": "@jupyter-widgets/controls",
            "_model_module_version": "1.5.0",
            "_model_name": "HBoxModel",
            "_view_count": null,
            "_view_module": "@jupyter-widgets/controls",
            "_view_module_version": "1.5.0",
            "_view_name": "HBoxView",
            "box_style": "",
            "children": [
              "IPY_MODEL_7d51eda05e8b439eb9bc023c537c2d1a",
              "IPY_MODEL_9e41d41da083417cb84d64f361b33dfa",
              "IPY_MODEL_703438c4d82a45509699cad42c2a1833"
            ],
            "layout": "IPY_MODEL_2ac4c6bd11d74a0ea254afb432891872"
          }
        },
        "7d51eda05e8b439eb9bc023c537c2d1a": {
          "model_module": "@jupyter-widgets/controls",
          "model_name": "HTMLModel",
          "model_module_version": "1.5.0",
          "state": {
            "_dom_classes": [],
            "_model_module": "@jupyter-widgets/controls",
            "_model_module_version": "1.5.0",
            "_model_name": "HTMLModel",
            "_view_count": null,
            "_view_module": "@jupyter-widgets/controls",
            "_view_module_version": "1.5.0",
            "_view_name": "HTMLView",
            "description": "",
            "description_tooltip": null,
            "layout": "IPY_MODEL_454a293f73ec453e93894f4b184b828d",
            "placeholder": "​",
            "style": "IPY_MODEL_718e08e9c1bb4db1ba6de4e743b756e7",
            "value": "LinearLeastSquares:  70%"
          }
        },
        "9e41d41da083417cb84d64f361b33dfa": {
          "model_module": "@jupyter-widgets/controls",
          "model_name": "FloatProgressModel",
          "model_module_version": "1.5.0",
          "state": {
            "_dom_classes": [],
            "_model_module": "@jupyter-widgets/controls",
            "_model_module_version": "1.5.0",
            "_model_name": "FloatProgressModel",
            "_view_count": null,
            "_view_module": "@jupyter-widgets/controls",
            "_view_module_version": "1.5.0",
            "_view_name": "ProgressView",
            "bar_style": "danger",
            "description": "",
            "description_tooltip": null,
            "layout": "IPY_MODEL_1c73d1750c254b109cca56084b8ee9aa",
            "max": 10,
            "min": 0,
            "orientation": "horizontal",
            "style": "IPY_MODEL_d81b7390ffa542eb837fd1079971ef6c",
            "value": 7
          }
        },
        "703438c4d82a45509699cad42c2a1833": {
          "model_module": "@jupyter-widgets/controls",
          "model_name": "HTMLModel",
          "model_module_version": "1.5.0",
          "state": {
            "_dom_classes": [],
            "_model_module": "@jupyter-widgets/controls",
            "_model_module_version": "1.5.0",
            "_model_name": "HTMLModel",
            "_view_count": null,
            "_view_module": "@jupyter-widgets/controls",
            "_view_module_version": "1.5.0",
            "_view_name": "HTMLView",
            "description": "",
            "description_tooltip": null,
            "layout": "IPY_MODEL_0650039d25fb4cfcae49f3855d16e7ca",
            "placeholder": "​",
            "style": "IPY_MODEL_36dc6dfacf454d0b8bb8c243c2f24779",
            "value": " 7/10 [00:01&lt;00:00,  5.39it/s, resid=0.00E+00]"
          }
        },
        "2ac4c6bd11d74a0ea254afb432891872": {
          "model_module": "@jupyter-widgets/base",
          "model_name": "LayoutModel",
          "model_module_version": "1.2.0",
          "state": {
            "_model_module": "@jupyter-widgets/base",
            "_model_module_version": "1.2.0",
            "_model_name": "LayoutModel",
            "_view_count": null,
            "_view_module": "@jupyter-widgets/base",
            "_view_module_version": "1.2.0",
            "_view_name": "LayoutView",
            "align_content": null,
            "align_items": null,
            "align_self": null,
            "border": null,
            "bottom": null,
            "display": null,
            "flex": null,
            "flex_flow": null,
            "grid_area": null,
            "grid_auto_columns": null,
            "grid_auto_flow": null,
            "grid_auto_rows": null,
            "grid_column": null,
            "grid_gap": null,
            "grid_row": null,
            "grid_template_areas": null,
            "grid_template_columns": null,
            "grid_template_rows": null,
            "height": null,
            "justify_content": null,
            "justify_items": null,
            "left": null,
            "margin": null,
            "max_height": null,
            "max_width": null,
            "min_height": null,
            "min_width": null,
            "object_fit": null,
            "object_position": null,
            "order": null,
            "overflow": null,
            "overflow_x": null,
            "overflow_y": null,
            "padding": null,
            "right": null,
            "top": null,
            "visibility": null,
            "width": null
          }
        },
        "454a293f73ec453e93894f4b184b828d": {
          "model_module": "@jupyter-widgets/base",
          "model_name": "LayoutModel",
          "model_module_version": "1.2.0",
          "state": {
            "_model_module": "@jupyter-widgets/base",
            "_model_module_version": "1.2.0",
            "_model_name": "LayoutModel",
            "_view_count": null,
            "_view_module": "@jupyter-widgets/base",
            "_view_module_version": "1.2.0",
            "_view_name": "LayoutView",
            "align_content": null,
            "align_items": null,
            "align_self": null,
            "border": null,
            "bottom": null,
            "display": null,
            "flex": null,
            "flex_flow": null,
            "grid_area": null,
            "grid_auto_columns": null,
            "grid_auto_flow": null,
            "grid_auto_rows": null,
            "grid_column": null,
            "grid_gap": null,
            "grid_row": null,
            "grid_template_areas": null,
            "grid_template_columns": null,
            "grid_template_rows": null,
            "height": null,
            "justify_content": null,
            "justify_items": null,
            "left": null,
            "margin": null,
            "max_height": null,
            "max_width": null,
            "min_height": null,
            "min_width": null,
            "object_fit": null,
            "object_position": null,
            "order": null,
            "overflow": null,
            "overflow_x": null,
            "overflow_y": null,
            "padding": null,
            "right": null,
            "top": null,
            "visibility": null,
            "width": null
          }
        },
        "718e08e9c1bb4db1ba6de4e743b756e7": {
          "model_module": "@jupyter-widgets/controls",
          "model_name": "DescriptionStyleModel",
          "model_module_version": "1.5.0",
          "state": {
            "_model_module": "@jupyter-widgets/controls",
            "_model_module_version": "1.5.0",
            "_model_name": "DescriptionStyleModel",
            "_view_count": null,
            "_view_module": "@jupyter-widgets/base",
            "_view_module_version": "1.2.0",
            "_view_name": "StyleView",
            "description_width": ""
          }
        },
        "1c73d1750c254b109cca56084b8ee9aa": {
          "model_module": "@jupyter-widgets/base",
          "model_name": "LayoutModel",
          "model_module_version": "1.2.0",
          "state": {
            "_model_module": "@jupyter-widgets/base",
            "_model_module_version": "1.2.0",
            "_model_name": "LayoutModel",
            "_view_count": null,
            "_view_module": "@jupyter-widgets/base",
            "_view_module_version": "1.2.0",
            "_view_name": "LayoutView",
            "align_content": null,
            "align_items": null,
            "align_self": null,
            "border": null,
            "bottom": null,
            "display": null,
            "flex": null,
            "flex_flow": null,
            "grid_area": null,
            "grid_auto_columns": null,
            "grid_auto_flow": null,
            "grid_auto_rows": null,
            "grid_column": null,
            "grid_gap": null,
            "grid_row": null,
            "grid_template_areas": null,
            "grid_template_columns": null,
            "grid_template_rows": null,
            "height": null,
            "justify_content": null,
            "justify_items": null,
            "left": null,
            "margin": null,
            "max_height": null,
            "max_width": null,
            "min_height": null,
            "min_width": null,
            "object_fit": null,
            "object_position": null,
            "order": null,
            "overflow": null,
            "overflow_x": null,
            "overflow_y": null,
            "padding": null,
            "right": null,
            "top": null,
            "visibility": null,
            "width": null
          }
        },
        "d81b7390ffa542eb837fd1079971ef6c": {
          "model_module": "@jupyter-widgets/controls",
          "model_name": "ProgressStyleModel",
          "model_module_version": "1.5.0",
          "state": {
            "_model_module": "@jupyter-widgets/controls",
            "_model_module_version": "1.5.0",
            "_model_name": "ProgressStyleModel",
            "_view_count": null,
            "_view_module": "@jupyter-widgets/base",
            "_view_module_version": "1.2.0",
            "_view_name": "StyleView",
            "bar_color": null,
            "description_width": ""
          }
        },
        "0650039d25fb4cfcae49f3855d16e7ca": {
          "model_module": "@jupyter-widgets/base",
          "model_name": "LayoutModel",
          "model_module_version": "1.2.0",
          "state": {
            "_model_module": "@jupyter-widgets/base",
            "_model_module_version": "1.2.0",
            "_model_name": "LayoutModel",
            "_view_count": null,
            "_view_module": "@jupyter-widgets/base",
            "_view_module_version": "1.2.0",
            "_view_name": "LayoutView",
            "align_content": null,
            "align_items": null,
            "align_self": null,
            "border": null,
            "bottom": null,
            "display": null,
            "flex": null,
            "flex_flow": null,
            "grid_area": null,
            "grid_auto_columns": null,
            "grid_auto_flow": null,
            "grid_auto_rows": null,
            "grid_column": null,
            "grid_gap": null,
            "grid_row": null,
            "grid_template_areas": null,
            "grid_template_columns": null,
            "grid_template_rows": null,
            "height": null,
            "justify_content": null,
            "justify_items": null,
            "left": null,
            "margin": null,
            "max_height": null,
            "max_width": null,
            "min_height": null,
            "min_width": null,
            "object_fit": null,
            "object_position": null,
            "order": null,
            "overflow": null,
            "overflow_x": null,
            "overflow_y": null,
            "padding": null,
            "right": null,
            "top": null,
            "visibility": null,
            "width": null
          }
        },
        "36dc6dfacf454d0b8bb8c243c2f24779": {
          "model_module": "@jupyter-widgets/controls",
          "model_name": "DescriptionStyleModel",
          "model_module_version": "1.5.0",
          "state": {
            "_model_module": "@jupyter-widgets/controls",
            "_model_module_version": "1.5.0",
            "_model_name": "DescriptionStyleModel",
            "_view_count": null,
            "_view_module": "@jupyter-widgets/base",
            "_view_module_version": "1.2.0",
            "_view_name": "StyleView",
            "description_width": ""
          }
        }
      }
    }
  },
  "nbformat": 4,
  "nbformat_minor": 0
}